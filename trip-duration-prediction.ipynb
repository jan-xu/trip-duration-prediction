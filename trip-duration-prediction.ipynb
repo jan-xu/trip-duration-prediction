{
 "cells": [
  {
   "cell_type": "markdown",
   "metadata": {},
   "source": [
    "---\n",
    "# Trip Duration Prediction\n",
    "\n",
    "**Author:** Jan Xu\n",
    "\n",
    "**Date:** 05/05/2019\n",
    "\n",
    "___"
   ]
  },
  {
   "cell_type": "markdown",
   "metadata": {},
   "source": [
    "## Import modules"
   ]
  },
  {
   "cell_type": "code",
   "execution_count": 236,
   "metadata": {},
   "outputs": [],
   "source": [
    "import warnings\n",
    "warnings.filterwarnings('ignore')\n",
    "warnings.filterwarnings('ignore', category=DeprecationWarning)\n",
    "\n",
    "import numpy as np\n",
    "import pandas as pd\n",
    "import matplotlib.pyplot as plt\n",
    "import seaborn as sb\n",
    "%matplotlib inline\n",
    "import datetime\n",
    "import random\n",
    "import time\n",
    "from tqdm import tqdm\n",
    "\n",
    "from sklearn.model_selection import train_test_split\n",
    "from sklearn.linear_model import LinearRegression, Ridge, Lasso\n",
    "from sklearn.svm import SVR\n",
    "from sklearn.ensemble import RandomForestRegressor\n",
    "from sklearn.cluster import DBSCAN\n",
    "from sklearn.metrics import mean_squared_error\n",
    "from sklearn.preprocessing import MinMaxScaler\n",
    "from keras.models import Sequential\n",
    "from keras.layers import Dense, Activation, Flatten, BatchNormalization\n",
    "from keras.regularizers import l2\n",
    "from xgboost import XGBRegressor\n",
    "\n",
    "import gmplot\n",
    "import googlemaps"
   ]
  },
  {
   "cell_type": "markdown",
   "metadata": {},
   "source": [
    "# Step 0: Import data"
   ]
  },
  {
   "cell_type": "code",
   "execution_count": 183,
   "metadata": {},
   "outputs": [
    {
     "data": {
      "text/html": [
       "<div>\n",
       "<style scoped>\n",
       "    .dataframe tbody tr th:only-of-type {\n",
       "        vertical-align: middle;\n",
       "    }\n",
       "\n",
       "    .dataframe tbody tr th {\n",
       "        vertical-align: top;\n",
       "    }\n",
       "\n",
       "    .dataframe thead th {\n",
       "        text-align: right;\n",
       "    }\n",
       "</style>\n",
       "<table border=\"1\" class=\"dataframe\">\n",
       "  <thead>\n",
       "    <tr style=\"text-align: right;\">\n",
       "      <th></th>\n",
       "      <th>start_lng</th>\n",
       "      <th>start_lat</th>\n",
       "      <th>end_lng</th>\n",
       "      <th>end_lat</th>\n",
       "      <th>datetime</th>\n",
       "      <th>duration</th>\n",
       "    </tr>\n",
       "    <tr>\n",
       "      <th>row_id</th>\n",
       "      <th></th>\n",
       "      <th></th>\n",
       "      <th></th>\n",
       "      <th></th>\n",
       "      <th></th>\n",
       "      <th></th>\n",
       "    </tr>\n",
       "  </thead>\n",
       "  <tbody>\n",
       "    <tr>\n",
       "      <th>0</th>\n",
       "      <td>-73.783279</td>\n",
       "      <td>40.644718</td>\n",
       "      <td>-73.963799</td>\n",
       "      <td>40.681320</td>\n",
       "      <td>2015-01-09 00:51:48</td>\n",
       "      <td>1815.0</td>\n",
       "    </tr>\n",
       "    <tr>\n",
       "      <th>1</th>\n",
       "      <td>-122.422385</td>\n",
       "      <td>37.789408</td>\n",
       "      <td>-122.419890</td>\n",
       "      <td>37.766692</td>\n",
       "      <td>2012-09-14 01:46:00</td>\n",
       "      <td>300.0</td>\n",
       "    </tr>\n",
       "    <tr>\n",
       "      <th>2</th>\n",
       "      <td>-73.885292</td>\n",
       "      <td>40.773060</td>\n",
       "      <td>-74.000076</td>\n",
       "      <td>40.761360</td>\n",
       "      <td>2015-04-19 20:26:57</td>\n",
       "      <td>2620.0</td>\n",
       "    </tr>\n",
       "    <tr>\n",
       "      <th>3</th>\n",
       "      <td>-122.401603</td>\n",
       "      <td>37.788975</td>\n",
       "      <td>-122.410958</td>\n",
       "      <td>37.796447</td>\n",
       "      <td>2012-09-03 23:48:00</td>\n",
       "      <td>360.0</td>\n",
       "    </tr>\n",
       "    <tr>\n",
       "      <th>4</th>\n",
       "      <td>-74.008728</td>\n",
       "      <td>40.714317</td>\n",
       "      <td>-74.006432</td>\n",
       "      <td>40.731720</td>\n",
       "      <td>2015-01-21 12:14:45</td>\n",
       "      <td>582.0</td>\n",
       "    </tr>\n",
       "  </tbody>\n",
       "</table>\n",
       "</div>"
      ],
      "text/plain": [
       "         start_lng  start_lat     end_lng    end_lat             datetime  \\\n",
       "row_id                                                                      \n",
       "0       -73.783279  40.644718  -73.963799  40.681320  2015-01-09 00:51:48   \n",
       "1      -122.422385  37.789408 -122.419890  37.766692  2012-09-14 01:46:00   \n",
       "2       -73.885292  40.773060  -74.000076  40.761360  2015-04-19 20:26:57   \n",
       "3      -122.401603  37.788975 -122.410958  37.796447  2012-09-03 23:48:00   \n",
       "4       -74.008728  40.714317  -74.006432  40.731720  2015-01-21 12:14:45   \n",
       "\n",
       "        duration  \n",
       "row_id            \n",
       "0         1815.0  \n",
       "1          300.0  \n",
       "2         2620.0  \n",
       "3          360.0  \n",
       "4          582.0  "
      ]
     },
     "execution_count": 183,
     "metadata": {},
     "output_type": "execute_result"
    }
   ],
   "source": [
    "train_df = pd.read_csv(\"dataset/train.csv\", index_col=\"row_id\")\n",
    "test_df = pd.read_csv(\"dataset/test.csv\", index_col=\"row_id\")\n",
    "combine = [train_df, test_df]\n",
    "\n",
    "train_df.head()"
   ]
  },
  {
   "cell_type": "code",
   "execution_count": 184,
   "metadata": {},
   "outputs": [],
   "source": [
    "# Visualize training data points\n",
    "gmap = gmplot.GoogleMapPlotter(train_df.start_lat.mean(), train_df.start_lng.mean(), 4)\n",
    "gmap.heatmap(train_df.start_lat, train_df.start_lng)\n",
    "\n",
    "# Store html with geospatial Google Maps heatmap\n",
    "gmap.draw(\"gmaps/heatmap.html\")"
   ]
  },
  {
   "cell_type": "markdown",
   "metadata": {},
   "source": [
    "![ce263n](img/data_points.png)\n",
    "\n",
    "Looks like the main data points are in San Francisco and in New York."
   ]
  },
  {
   "cell_type": "markdown",
   "metadata": {},
   "source": [
    "# Step 1: Exploratory Data Analysis"
   ]
  },
  {
   "cell_type": "code",
   "execution_count": 185,
   "metadata": {},
   "outputs": [
    {
     "name": "stdout",
     "output_type": "stream",
     "text": [
      "<class 'pandas.core.frame.DataFrame'>\n",
      "Int64Index: 146001 entries, 0 to 146000\n",
      "Data columns (total 6 columns):\n",
      "start_lng    145601 non-null float64\n",
      "start_lat    146001 non-null float64\n",
      "end_lng      146001 non-null float64\n",
      "end_lat      145401 non-null float64\n",
      "datetime     146001 non-null object\n",
      "duration     146001 non-null float64\n",
      "dtypes: float64(5), object(1)\n",
      "memory usage: 7.8+ MB\n"
     ]
    }
   ],
   "source": [
    "train_df.info()"
   ]
  },
  {
   "cell_type": "code",
   "execution_count": 186,
   "metadata": {},
   "outputs": [
    {
     "data": {
      "text/html": [
       "<div>\n",
       "<style scoped>\n",
       "    .dataframe tbody tr th:only-of-type {\n",
       "        vertical-align: middle;\n",
       "    }\n",
       "\n",
       "    .dataframe tbody tr th {\n",
       "        vertical-align: top;\n",
       "    }\n",
       "\n",
       "    .dataframe thead th {\n",
       "        text-align: right;\n",
       "    }\n",
       "</style>\n",
       "<table border=\"1\" class=\"dataframe\">\n",
       "  <thead>\n",
       "    <tr style=\"text-align: right;\">\n",
       "      <th></th>\n",
       "      <th>start_lng</th>\n",
       "      <th>start_lat</th>\n",
       "      <th>end_lng</th>\n",
       "      <th>end_lat</th>\n",
       "      <th>duration</th>\n",
       "    </tr>\n",
       "  </thead>\n",
       "  <tbody>\n",
       "    <tr>\n",
       "      <th>count</th>\n",
       "      <td>145601.000000</td>\n",
       "      <td>146001.000000</td>\n",
       "      <td>146001.000000</td>\n",
       "      <td>145401.000000</td>\n",
       "      <td>146001.000000</td>\n",
       "    </tr>\n",
       "    <tr>\n",
       "      <th>mean</th>\n",
       "      <td>-86.465695</td>\n",
       "      <td>39.913703</td>\n",
       "      <td>-87.177163</td>\n",
       "      <td>39.922772</td>\n",
       "      <td>1063.222314</td>\n",
       "    </tr>\n",
       "    <tr>\n",
       "      <th>std</th>\n",
       "      <td>25.468467</td>\n",
       "      <td>1.339508</td>\n",
       "      <td>22.225753</td>\n",
       "      <td>1.336437</td>\n",
       "      <td>3305.905829</td>\n",
       "    </tr>\n",
       "    <tr>\n",
       "      <th>min</th>\n",
       "      <td>-122.515832</td>\n",
       "      <td>37.459648</td>\n",
       "      <td>-122.634420</td>\n",
       "      <td>37.225640</td>\n",
       "      <td>0.000000</td>\n",
       "    </tr>\n",
       "    <tr>\n",
       "      <th>25%</th>\n",
       "      <td>-122.393532</td>\n",
       "      <td>37.798430</td>\n",
       "      <td>-122.392458</td>\n",
       "      <td>37.800318</td>\n",
       "      <td>382.000000</td>\n",
       "    </tr>\n",
       "    <tr>\n",
       "      <th>50%</th>\n",
       "      <td>-73.989830</td>\n",
       "      <td>40.741089</td>\n",
       "      <td>-73.988754</td>\n",
       "      <td>40.740990</td>\n",
       "      <td>631.000000</td>\n",
       "    </tr>\n",
       "    <tr>\n",
       "      <th>75%</th>\n",
       "      <td>-73.974190</td>\n",
       "      <td>40.762104</td>\n",
       "      <td>-73.971245</td>\n",
       "      <td>40.762669</td>\n",
       "      <td>1020.000000</td>\n",
       "    </tr>\n",
       "    <tr>\n",
       "      <th>max</th>\n",
       "      <td>74.100212</td>\n",
       "      <td>40.994354</td>\n",
       "      <td>-50.336068</td>\n",
       "      <td>41.005390</td>\n",
       "      <td>42168.000000</td>\n",
       "    </tr>\n",
       "  </tbody>\n",
       "</table>\n",
       "</div>"
      ],
      "text/plain": [
       "           start_lng      start_lat        end_lng        end_lat  \\\n",
       "count  145601.000000  146001.000000  146001.000000  145401.000000   \n",
       "mean      -86.465695      39.913703     -87.177163      39.922772   \n",
       "std        25.468467       1.339508      22.225753       1.336437   \n",
       "min      -122.515832      37.459648    -122.634420      37.225640   \n",
       "25%      -122.393532      37.798430    -122.392458      37.800318   \n",
       "50%       -73.989830      40.741089     -73.988754      40.740990   \n",
       "75%       -73.974190      40.762104     -73.971245      40.762669   \n",
       "max        74.100212      40.994354     -50.336068      41.005390   \n",
       "\n",
       "            duration  \n",
       "count  146001.000000  \n",
       "mean     1063.222314  \n",
       "std      3305.905829  \n",
       "min         0.000000  \n",
       "25%       382.000000  \n",
       "50%       631.000000  \n",
       "75%      1020.000000  \n",
       "max     42168.000000  "
      ]
     },
     "execution_count": 186,
     "metadata": {},
     "output_type": "execute_result"
    }
   ],
   "source": [
    "train_df.describe()"
   ]
  },
  {
   "cell_type": "code",
   "execution_count": 187,
   "metadata": {},
   "outputs": [],
   "source": [
    "# Convert to datetime and drop NA's\n",
    "for df in combine:\n",
    "    df.datetime = pd.to_datetime(df.datetime)\n",
    "    df.dropna(axis=0, inplace=True)"
   ]
  },
  {
   "cell_type": "code",
   "execution_count": 188,
   "metadata": {},
   "outputs": [],
   "source": [
    "# Drop invalid routes\n",
    "train_df.drop([90810, 81553, 83473, 87892, 96380], axis=0, inplace=True)\n",
    "\n",
    "# Drop trips above 20000 seconds\n",
    "train_df.drop(train_df[train_df.duration > 7200.0].index, axis=0, inplace=True)\n",
    "\n",
    "# Drop zero durations\n",
    "train_df.drop(train_df.loc[(train_df.duration == 0) &\n",
    "                           ((train_df.start_lng != train_df.end_lng) |\n",
    "                            (train_df.start_lat != train_df.end_lat))].index, axis=0, inplace=True)"
   ]
  },
  {
   "cell_type": "code",
   "execution_count": 189,
   "metadata": {},
   "outputs": [
    {
     "data": {
      "image/png": "[encoded data removed]",
      "text/plain": [
       "<Figure size 432x432 with 1 Axes>"
      ]
     },
     "metadata": {
      "needs_background": "light"
     },
     "output_type": "display_data"
    }
   ],
   "source": [
    "# Check datetime values\n",
    "train_df.datetime.hist(figsize=(6,6))\n",
    "plt.show()"
   ]
  },
  {
   "cell_type": "code",
   "execution_count": 190,
   "metadata": {},
   "outputs": [
    {
     "data": {
      "image/png": "[encoded data removed]",
      "text/plain": [
       "<Figure size 432x432 with 6 Axes>"
      ]
     },
     "metadata": {
      "needs_background": "light"
     },
     "output_type": "display_data"
    }
   ],
   "source": [
    "# Check all other features\n",
    "train_df.hist(figsize=(6,6))\n",
    "plt.show()"
   ]
  },
  {
   "cell_type": "code",
   "execution_count": 191,
   "metadata": {},
   "outputs": [],
   "source": [
    "# Check coordinate anomalies in start_lng\n",
    "mismatched = train_df[train_df.start_lng > 50]\n",
    "gmap = gmplot.GoogleMapPlotter(mismatched.start_lat.iloc[0], mismatched.start_lng.iloc[0], 7)\n",
    "gmap.heatmap(mismatched.start_lat, mismatched.start_lng)\n",
    "gmap.draw(\"gmaps/mismatched.html\")"
   ]
  },
  {
   "cell_type": "markdown",
   "metadata": {},
   "source": [
    "![ce263n](img/kyrgyzstan.png)\n",
    "\n",
    "Whoops! Looks like a few data points are mismatched. The \"start_lng\" seem to be positive instead of negative. We should fix this."
   ]
  },
  {
   "cell_type": "code",
   "execution_count": 192,
   "metadata": {},
   "outputs": [
    {
     "data": {
      "image/png": "[encoded data removed]",
      "text/plain": [
       "<Figure size 432x432 with 1 Axes>"
      ]
     },
     "metadata": {
      "needs_background": "light"
     },
     "output_type": "display_data"
    }
   ],
   "source": [
    "train_df.loc[mismatched.index, \"start_lng\"] = -train_df.loc[mismatched.index].start_lng\n",
    "plt.figure(figsize=(6,6))\n",
    "plt.hist(train_df.start_lng)\n",
    "plt.show()"
   ]
  },
  {
   "cell_type": "markdown",
   "metadata": {},
   "source": [
    "Much better! Now, let's check the coordinate anomalies in end_lng."
   ]
  },
  {
   "cell_type": "code",
   "execution_count": 193,
   "metadata": {},
   "outputs": [],
   "source": [
    "# Check coordinate anomalies in end_lng\n",
    "mismatched2 = train_df[train_df.end_lng > -60]\n",
    "gmap = gmplot.GoogleMapPlotter(mismatched2.end_lat.iloc[0], mismatched2.end_lng.iloc[0], 5)\n",
    "gmap.heatmap(mismatched2.end_lat, mismatched2.end_lng)\n",
    "gmap.draw(\"gmaps/mismatched2.html\")"
   ]
  },
  {
   "cell_type": "markdown",
   "metadata": {},
   "source": [
    "![ce263n](img/northatlantic.png)\n",
    "\n",
    "We are swimming in deep waters here. We should remove these data points."
   ]
  },
  {
   "cell_type": "code",
   "execution_count": 194,
   "metadata": {},
   "outputs": [
    {
     "data": {
      "image/png": "[encoded data removed]",
      "text/plain": [
       "<Figure size 432x432 with 1 Axes>"
      ]
     },
     "metadata": {
      "needs_background": "light"
     },
     "output_type": "display_data"
    }
   ],
   "source": [
    "train_df.drop(mismatched2.index, axis=0, inplace=True)\n",
    "plt.figure(figsize=(6,6))\n",
    "plt.hist(train_df.end_lng)\n",
    "plt.show()"
   ]
  },
  {
   "cell_type": "markdown",
   "metadata": {},
   "source": [
    "Looks nice!"
   ]
  },
  {
   "cell_type": "code",
   "execution_count": 195,
   "metadata": {},
   "outputs": [
    {
     "name": "stdout",
     "output_type": "stream",
     "text": [
      "<class 'pandas.core.frame.DataFrame'>\n",
      "Int64Index: 140965 entries, 0 to 146000\n",
      "Data columns (total 6 columns):\n",
      "start_lng    140965 non-null float64\n",
      "start_lat    140965 non-null float64\n",
      "end_lng      140965 non-null float64\n",
      "end_lat      140965 non-null float64\n",
      "datetime     140965 non-null datetime64[ns]\n",
      "duration     140965 non-null float64\n",
      "dtypes: datetime64[ns](1), float64(5)\n",
      "memory usage: 7.5 MB\n"
     ]
    }
   ],
   "source": [
    "train_df.info()"
   ]
  },
  {
   "cell_type": "markdown",
   "metadata": {},
   "source": [
    "# Step 2: Feature Engineering"
   ]
  },
  {
   "cell_type": "markdown",
   "metadata": {},
   "source": [
    "## Estimate distances"
   ]
  },
  {
   "cell_type": "code",
   "execution_count": 196,
   "metadata": {},
   "outputs": [],
   "source": [
    "# Manhattan and Euclidean (Havesine) distances\n",
    "def distance(df, method=\"manhattan\"):\n",
    "    earthR = 6378137.0\n",
    "    pi180 = np.pi/180\n",
    "    \n",
    "    dlat = (df.end_lat - df.start_lat) * pi180\n",
    "    dlng = (df.end_lng - df.start_lng) * pi180\n",
    "    \n",
    "    if method == \"manhattan\":\n",
    "        ay = np.sin(np.abs(dlat)/2)**2\n",
    "        cy = 2*np.arctan2(np.sqrt(ay), np.sqrt(1-ay))\n",
    "        dy = earthR * cy\n",
    "\n",
    "        ax = np.sin(np.abs(dlng)/2)**2\n",
    "        cx = 2*np.arctan2(np.sqrt(ax), np.sqrt(1-ax))\n",
    "        dx = earthR * cx\n",
    "\n",
    "        distance = np.abs(dx) + np.abs(dy)\n",
    "    \n",
    "    elif method == \"euclidean\":\n",
    "        a = (np.sin(dlat/2)**2 + np.cos(df.start_lat*pi180) * np.cos(df.end_lat*pi180) * np.sin(dlng/2)**2)\n",
    "        c = 2*np.arctan2(np.sqrt(a), np.sqrt(1-a))\n",
    "        \n",
    "        distance = earthR * c\n",
    "    else:\n",
    "        distance = 0\n",
    "        \n",
    "    return distance"
   ]
  },
  {
   "cell_type": "code",
   "execution_count": 197,
   "metadata": {},
   "outputs": [],
   "source": [
    "for df in combine:\n",
    "    df[\"manhattan\"] = distance(df, method=\"manhattan\")\n",
    "    df[\"euclidean\"] = distance(df, method=\"euclidean\")"
   ]
  },
  {
   "cell_type": "markdown",
   "metadata": {},
   "source": [
    "### Extract Google Maps data"
   ]
  },
  {
   "cell_type": "markdown",
   "metadata": {},
   "source": [
    "The gmaps data was pre-downloaded by running the function ```extract_gmaps_data``` on both the training and test data. This was then imported later for usage in the model."
   ]
  },
  {
   "cell_type": "code",
   "execution_count": 198,
   "metadata": {},
   "outputs": [],
   "source": [
    "# Not used here\n",
    "def extract_gmaps_data(df, test=False):\n",
    "    gmaps = googlemaps.Client(\"<API-KEY>\")\n",
    "    \n",
    "    distances = []\n",
    "    durations = []\n",
    "    \n",
    "    df['pickup'] = df.start_lat.astype(str)+\",\"+df.start_lng.astype(str)\n",
    "    df['dropoff'] = df.end_lat.astype(str)+\",\"+df.end_lng.astype(str)\n",
    "    \n",
    "    firstindex = df.index[0]\n",
    "    finalindex = df.index[-1]\n",
    "    interval = finalindex - firstindex\n",
    "    \n",
    "    for i in tqdm(range(interval // 9 + 1)):\n",
    "        lastindex = firstindex + 8\n",
    "        df_9 = df.loc[firstindex:lastindex]\n",
    "\n",
    "        result = gmaps.distance_matrix(df_9.pickup.values,\n",
    "                                       df_9.dropoff.values,\n",
    "                                       units=\"metric\")\n",
    "\n",
    "        for i in range(len(df_9)):\n",
    "            try:\n",
    "                distances.append(result[\"rows\"][i][\"elements\"][i][\"distance\"][\"value\"])\n",
    "                durations.append(result[\"rows\"][i][\"elements\"][i][\"duration\"][\"value\"])\n",
    "            except:\n",
    "                distances.append(0)\n",
    "                durations.append(0)\n",
    "\n",
    "        firstindex = lastindex + 1\n",
    "\n",
    "    df['gmaps_dist'] = np.array(distances)\n",
    "    df['gmaps_duration'] = np.array(durations)\n",
    "    \n",
    "    if test:\n",
    "        save_gmaps_test_data(df)\n",
    "    else:\n",
    "        save_gmaps_train_data(df)\n",
    "    \n",
    "    return df\n",
    "\n",
    "def save_gmaps_train_data(df):\n",
    "    df[[\"gmaps_dist\", \"gmaps_duration\"]].to_csv(\"gmapsdata/{0}-{1}.csv\".format(df.index[0], df.index[-1]))\n",
    "    \n",
    "def save_gmaps_test_data(df):\n",
    "    df[[\"gmaps_dist\", \"gmaps_duration\"]].to_csv(\"gmapsdata/{0}-{1}.csv\".format(df.index[0], df.index[-1]))"
   ]
  },
  {
   "cell_type": "code",
   "execution_count": 199,
   "metadata": {},
   "outputs": [],
   "source": [
    "# Not used, data already extracted\n",
    "\n",
    "\"\"\"\n",
    "start = 0\n",
    "interval = 10000\n",
    "\n",
    "while start < len(train_df):\n",
    "    print(\"Now starting with batch of the {0}'s...\".format(start))\n",
    "    train = train_df.loc[start:start+interval-1]\n",
    "    train = extract_gmaps_data(train, test=False)\n",
    "    start += interval\n",
    "\n",
    "start = 0\n",
    "\n",
    "while start < len(test_df):\n",
    "    print(\"Now starting with batch of the {0}'s...\".format(start))\n",
    "    test = test_df.loc[start:start+interval-1]\n",
    "    test = extract_gmaps_data(test, test=True)\n",
    "    start += interval\n",
    "\"\"\"\n",
    "None"
   ]
  },
  {
   "cell_type": "code",
   "execution_count": 200,
   "metadata": {},
   "outputs": [],
   "source": [
    "# Import gmaps data\n",
    "gmaps_train_data = pd.read_csv(\"gmapsdata/gmaps_train_data.csv\", index_col=\"row_id\")\n",
    "gmaps_test_data = pd.read_csv(\"gmapsdata/gmaps_test_data.csv\", index_col=\"row_id\")\n",
    "    \n",
    "train_df[\"gmaps_dist\"] = gmaps_train_data.gmaps_dist\n",
    "train_df[\"gmaps_duration\"] = gmaps_train_data.gmaps_duration\n",
    "train_df.dropna(axis=0, inplace=True)\n",
    "    \n",
    "test_df[\"gmaps_dist\"] = gmaps_test_data.gmaps_dist\n",
    "test_df[\"gmaps_duration\"] = gmaps_test_data.gmaps_duration\n",
    "test_df.dropna(axis=0, inplace=True)"
   ]
  },
  {
   "cell_type": "code",
   "execution_count": 201,
   "metadata": {},
   "outputs": [],
   "source": [
    "# Treasure Island fix\n",
    "for df in combine:\n",
    "    TI_df = df[df.gmaps_dist == 0].loc[df.manhattan > 2000]\n",
    "    df.loc[TI_df.index, \"gmaps_dist\"] = TI_df.manhattan\n",
    "    df.loc[TI_df.index, \"gmaps_duration\"] = TI_df.manhattan / 11.0"
   ]
  },
  {
   "cell_type": "markdown",
   "metadata": {},
   "source": [
    "## Time features"
   ]
  },
  {
   "cell_type": "code",
   "execution_count": 202,
   "metadata": {},
   "outputs": [],
   "source": [
    "# Add weekdays, hour and date columns and drop datetime\n",
    "for df in combine:\n",
    "    df[\"weekday\"] = df.datetime.dt.weekday + 1\n",
    "    df[\"hour\"] = df.datetime.dt.hour\n",
    "    df[\"date\"] = df.datetime.dt.date\n",
    "    df.drop(\"datetime\", axis=1, inplace=True)"
   ]
  },
  {
   "cell_type": "code",
   "execution_count": 203,
   "metadata": {},
   "outputs": [],
   "source": [
    "# Add marker for holidays (only 2015 since 2012 data is only one month)\n",
    "holidays2015 = {\n",
    "    \"New Years Day\": datetime.datetime(2015,1,1).date(),\n",
    "    \"Martin Luther King Day\": datetime.datetime(2015,1,19).date(),\n",
    "    \"Easter Saturday\": datetime.datetime(2015,4,4).date(),\n",
    "    \"Easter Sunday\": datetime.datetime(2015,4,5).date(),\n",
    "    \"Memorial Sunday\": datetime.datetime(2015,5,24).date(),\n",
    "    \"Memorial Day\": datetime.datetime(2015,5,25).date(),\n",
    "    \"Independence Pre-day\": datetime.datetime(2015,7,3).date(),\n",
    "    \"Independence Day\": datetime.datetime(2015,7,4).date(),\n",
    "    \"Independence Post-day\": datetime.datetime(2015,7,5).date(),\n",
    "    \"Labor Day\": datetime.datetime(2015,9,7).date(),\n",
    "    \"Thanksgiving Day\": datetime.datetime(2015,11,26).date(),\n",
    "    \"Thanksgiving Post-day\": datetime.datetime(2015,11,27).date(),\n",
    "    \"Thanksgiving Post-post-day\": datetime.datetime(2015,11,28).date(),\n",
    "    \"Christmas Eve\": datetime.datetime(2015,12,24).date(),\n",
    "    \"Christmas Day\": datetime.datetime(2015,12,25).date(),\n",
    "    \"Christmas Post-day\": datetime.datetime(2015,12,26).date(),\n",
    "    \"New Years Eve\": datetime.datetime(2015,12,31).date(),\n",
    "}\n",
    "\n",
    "for df in combine:\n",
    "    df[\"holiday\"] = np.zeros(df.index.shape)\n",
    "\n",
    "    for d in holidays2015.values():\n",
    "        df.loc[df.date == d, ['holiday']] = 1"
   ]
  },
  {
   "cell_type": "markdown",
   "metadata": {},
   "source": [
    "## Geolocations"
   ]
  },
  {
   "cell_type": "code",
   "execution_count": 204,
   "metadata": {},
   "outputs": [],
   "source": [
    "# Clustering hotspots\n",
    "def geolocations(combine):\n",
    "    train_df = combine[0]\n",
    "    test_df = combine[1]\n",
    "    \n",
    "    # Collate coordinates\n",
    "    train_df['train_or_test'] = \"train\"\n",
    "    test_df['train_or_test'] = \"test\"\n",
    "    train_test = pd.concat([train_df,test_df]).reset_index()\n",
    "\n",
    "    start = pd.DataFrame(train_test[[\"row_id\", \"start_lat\", \"start_lng\", \"train_or_test\"]].values, columns=[\"row_id\", \"lat\", \"lng\", \"train_or_test\"])\n",
    "    start['start_or_end'] = \"start\"\n",
    "    end = pd.DataFrame(train_test[[\"row_id\", \"end_lat\", \"end_lng\", \"train_or_test\"]].values, columns=[\"row_id\", \"lat\", \"lng\", \"train_or_test\"])\n",
    "    end['start_or_end'] = \"end\"\n",
    "    coords = pd.concat([start,end]).reset_index(drop=True)\n",
    "\n",
    "    # Find clusters\n",
    "    DB = DBSCAN(eps=0.005, min_samples=2500).fit(coords[[\"lng\", \"lat\"]])\n",
    "    print(\"Number of clusters found:\", max(DB.labels_) + 1)\n",
    "    \n",
    "    # Visualize clusters\n",
    "    for i in range(max(DB.labels_) + 1):\n",
    "        cluster = coords.loc[np.argwhere(DB.labels_ == i).flatten()]\n",
    "        gmap = gmplot.GoogleMapPlotter(cluster.lat.sample(1).values[0], cluster.lng.sample(1).values[0], 12)\n",
    "        gmap.heatmap(cluster.lat, cluster.lng)\n",
    "        gmap.draw(\"gmaps/cluster{0}.html\".format(i))\n",
    "    \n",
    "    # As seen, the following clusters are:\n",
    "    # -1 -> not clustered (standalone)\n",
    "    # 0  -> SF Market Street (city)\n",
    "    # 1  -> NY Manhattan (city)\n",
    "    # 2  -> SFO Airport (airport)\n",
    "    # 3  -> North SF (city)\n",
    "    # 4  -> SF Mission District (city)\n",
    "    # 5  -> JFK Airport (airport)\n",
    "    # 6  -> LaGuardia Airport (airport)\n",
    "    \n",
    "    # Label clusters\n",
    "    clusters = []\n",
    "    for i in DB.labels_:\n",
    "        if i == -1:\n",
    "            clusters.append(\"standalone\")\n",
    "        elif i in [0, 1, 3, 4]:\n",
    "            clusters.append(\"city\")\n",
    "        elif i in [2, 5, 6]:\n",
    "            clusters.append(\"airport\")\n",
    "    \n",
    "    # Visualize distribution of trips per cluster\n",
    "    location = np.array(clusters)\n",
    "    pd.value_counts(location).plot.bar()\n",
    "    plt.show()\n",
    "    \n",
    "    # Add flags to columns\n",
    "    coords['location'] = location\n",
    "\n",
    "    train_locs = coords.loc[coords.train_or_test == \"train\"]\n",
    "    test_locs = coords.loc[coords.train_or_test == \"test\"]\n",
    "\n",
    "    train_start_locs = train_locs.loc[train_locs.start_or_end == \"start\"].loc[:,[\"row_id\",\"location\"]].set_index(\"row_id\")\n",
    "    train_end_locs = train_locs.loc[train_locs.start_or_end == \"end\"].loc[:,[\"row_id\",\"location\"]].set_index(\"row_id\")\n",
    "    test_start_locs = test_locs.loc[test_locs.start_or_end == \"start\"].loc[:,[\"row_id\",\"location\"]].set_index(\"row_id\")\n",
    "    test_end_locs = test_locs.loc[test_locs.start_or_end == \"end\"].loc[:,[\"row_id\",\"location\"]].set_index(\"row_id\")\n",
    "\n",
    "    train_df[\"start_loc\"] = train_start_locs\n",
    "    train_df[\"end_loc\"] = train_end_locs\n",
    "    test_df[\"start_loc\"] = test_start_locs\n",
    "    test_df[\"end_loc\"] = test_end_locs\n",
    "    \n",
    "    train_df.drop(\"train_or_test\", axis=1, inplace=True)\n",
    "    test_df.drop(\"train_or_test\", axis=1, inplace=True)\n",
    "    \n",
    "    combine = [train_df, test_df]\n",
    "    \n",
    "    for df in combine:\n",
    "        df[\"airport\"] = np.zeros(df.index.shape)\n",
    "        df[\"citycenter\"] = np.zeros(df.index.shape)\n",
    "        df[\"standalone\"] = np.zeros(df.index.shape)\n",
    "\n",
    "        df.loc[df.start_loc == \"airport\", \"airport\"] = 1\n",
    "        df.loc[df.end_loc == \"airport\", \"airport\"] = 1\n",
    "\n",
    "        df.loc[df.start_loc == \"city\", \"citycenter\"] = 1\n",
    "        df.loc[df.end_loc == \"city\", \"citycenter\"] = 1\n",
    "\n",
    "        df.loc[df.start_loc == \"standalone\", \"standalone\"] = 1\n",
    "        df.loc[df.end_loc == \"standalone\", \"standalone\"] = 1\n",
    "\n",
    "        df.drop(\"start_loc\", axis=1, inplace=True)\n",
    "        df.drop(\"end_loc\", axis=1, inplace=True)\n",
    "    \n",
    "    return combine"
   ]
  },
  {
   "cell_type": "code",
   "execution_count": 205,
   "metadata": {},
   "outputs": [
    {
     "name": "stdout",
     "output_type": "stream",
     "text": [
      "Number of clusters found: 7\n"
     ]
    },
    {
     "data": {
      "image/png": "[encoded data removed]",
      "text/plain": [
       "<Figure size 432x288 with 1 Axes>"
      ]
     },
     "metadata": {
      "needs_background": "light"
     },
     "output_type": "display_data"
    }
   ],
   "source": [
    "combine = geolocations(combine)"
   ]
  },
  {
   "cell_type": "markdown",
   "metadata": {},
   "source": [
    "## Precipitation data"
   ]
  },
  {
   "cell_type": "code",
   "execution_count": 206,
   "metadata": {},
   "outputs": [
    {
     "data": {
      "text/html": [
       "<div>\n",
       "<style scoped>\n",
       "    .dataframe tbody tr th:only-of-type {\n",
       "        vertical-align: middle;\n",
       "    }\n",
       "\n",
       "    .dataframe tbody tr th {\n",
       "        vertical-align: top;\n",
       "    }\n",
       "\n",
       "    .dataframe thead th {\n",
       "        text-align: right;\n",
       "    }\n",
       "</style>\n",
       "<table border=\"1\" class=\"dataframe\">\n",
       "  <thead>\n",
       "    <tr style=\"text-align: right;\">\n",
       "      <th></th>\n",
       "      <th>date</th>\n",
       "      <th>precipitation</th>\n",
       "      <th>new_snow</th>\n",
       "      <th>snow_depth</th>\n",
       "    </tr>\n",
       "  </thead>\n",
       "  <tbody>\n",
       "    <tr>\n",
       "      <th>0</th>\n",
       "      <td>2012-09-01</td>\n",
       "      <td>0.0</td>\n",
       "      <td>0.0</td>\n",
       "      <td>0.0</td>\n",
       "    </tr>\n",
       "    <tr>\n",
       "      <th>1</th>\n",
       "      <td>2012-09-02</td>\n",
       "      <td>0.0</td>\n",
       "      <td>0.0</td>\n",
       "      <td>0.0</td>\n",
       "    </tr>\n",
       "    <tr>\n",
       "      <th>2</th>\n",
       "      <td>2012-09-03</td>\n",
       "      <td>0.0</td>\n",
       "      <td>0.0</td>\n",
       "      <td>0.0</td>\n",
       "    </tr>\n",
       "    <tr>\n",
       "      <th>3</th>\n",
       "      <td>2012-09-04</td>\n",
       "      <td>0.0</td>\n",
       "      <td>0.0</td>\n",
       "      <td>0.0</td>\n",
       "    </tr>\n",
       "    <tr>\n",
       "      <th>4</th>\n",
       "      <td>2012-09-05</td>\n",
       "      <td>0.0</td>\n",
       "      <td>0.0</td>\n",
       "      <td>0.0</td>\n",
       "    </tr>\n",
       "  </tbody>\n",
       "</table>\n",
       "</div>"
      ],
      "text/plain": [
       "        date  precipitation  new_snow  snow_depth\n",
       "0 2012-09-01            0.0       0.0         0.0\n",
       "1 2012-09-02            0.0       0.0         0.0\n",
       "2 2012-09-03            0.0       0.0         0.0\n",
       "3 2012-09-04            0.0       0.0         0.0\n",
       "4 2012-09-05            0.0       0.0         0.0"
      ]
     },
     "execution_count": 206,
     "metadata": {},
     "output_type": "execute_result"
    }
   ],
   "source": [
    "# Import precipitation data\n",
    "prec = pd.read_csv(\"raindata/precipitation.csv\")\n",
    "prec.date = pd.to_datetime(prec.date, dayfirst=True)\n",
    "prec.head()"
   ]
  },
  {
   "cell_type": "code",
   "execution_count": 207,
   "metadata": {},
   "outputs": [],
   "source": [
    "# Add precipitation data to dataframes\n",
    "for df in combine:\n",
    "    df[\"precipitation\"] = np.zeros(df.start_lng.shape)\n",
    "\n",
    "    for d in prec.date.dt.date:\n",
    "        df.loc[df.date == d, 'precipitation'] = prec.loc[prec.date.dt.date == d, 'precipitation'].values\n",
    "    \n",
    "    df.drop(\"date\", axis=1, inplace=True)"
   ]
  },
  {
   "cell_type": "markdown",
   "metadata": {},
   "source": [
    "## Mark outliers"
   ]
  },
  {
   "cell_type": "code",
   "execution_count": 208,
   "metadata": {},
   "outputs": [],
   "source": [
    "# Mark routing errors and short trips\n",
    "for df in combine:\n",
    "    df[\"routing_error\"] = np.zeros(df.index.shape)\n",
    "    df[\"short_trip\"] = np.zeros(df.index.shape)\n",
    "        \n",
    "    df.loc[(df.gmaps_dist > 500) & (df.manhattan < 50), \"routing_error\"] = 1\n",
    "    df.loc[(df.gmaps_dist < 500) & (df.manhattan < 50), \"short_trip\"] = 1"
   ]
  },
  {
   "cell_type": "markdown",
   "metadata": {},
   "source": [
    "## Final dataframes"
   ]
  },
  {
   "cell_type": "code",
   "execution_count": 209,
   "metadata": {},
   "outputs": [
    {
     "data": {
      "text/html": [
       "<div>\n",
       "<style scoped>\n",
       "    .dataframe tbody tr th:only-of-type {\n",
       "        vertical-align: middle;\n",
       "    }\n",
       "\n",
       "    .dataframe tbody tr th {\n",
       "        vertical-align: top;\n",
       "    }\n",
       "\n",
       "    .dataframe thead th {\n",
       "        text-align: right;\n",
       "    }\n",
       "</style>\n",
       "<table border=\"1\" class=\"dataframe\">\n",
       "  <thead>\n",
       "    <tr style=\"text-align: right;\">\n",
       "      <th></th>\n",
       "      <th>start_lng</th>\n",
       "      <th>start_lat</th>\n",
       "      <th>end_lng</th>\n",
       "      <th>end_lat</th>\n",
       "      <th>duration</th>\n",
       "      <th>manhattan</th>\n",
       "      <th>euclidean</th>\n",
       "      <th>gmaps_dist</th>\n",
       "      <th>gmaps_duration</th>\n",
       "      <th>weekday</th>\n",
       "      <th>hour</th>\n",
       "      <th>holiday</th>\n",
       "      <th>airport</th>\n",
       "      <th>citycenter</th>\n",
       "      <th>standalone</th>\n",
       "      <th>precipitation</th>\n",
       "      <th>routing_error</th>\n",
       "      <th>short_trip</th>\n",
       "    </tr>\n",
       "    <tr>\n",
       "      <th>row_id</th>\n",
       "      <th></th>\n",
       "      <th></th>\n",
       "      <th></th>\n",
       "      <th></th>\n",
       "      <th></th>\n",
       "      <th></th>\n",
       "      <th></th>\n",
       "      <th></th>\n",
       "      <th></th>\n",
       "      <th></th>\n",
       "      <th></th>\n",
       "      <th></th>\n",
       "      <th></th>\n",
       "      <th></th>\n",
       "      <th></th>\n",
       "      <th></th>\n",
       "      <th></th>\n",
       "      <th></th>\n",
       "    </tr>\n",
       "  </thead>\n",
       "  <tbody>\n",
       "    <tr>\n",
       "      <th>0</th>\n",
       "      <td>-73.783279</td>\n",
       "      <td>40.644718</td>\n",
       "      <td>-73.963799</td>\n",
       "      <td>40.681320</td>\n",
       "      <td>1815.0</td>\n",
       "      <td>24169.910480</td>\n",
       "      <td>15778.616804</td>\n",
       "      <td>18754.0</td>\n",
       "      <td>2236.0</td>\n",
       "      <td>5</td>\n",
       "      <td>0</td>\n",
       "      <td>0.0</td>\n",
       "      <td>0.0</td>\n",
       "      <td>1.0</td>\n",
       "      <td>1.0</td>\n",
       "      <td>0.07</td>\n",
       "      <td>0.0</td>\n",
       "      <td>0.0</td>\n",
       "    </tr>\n",
       "    <tr>\n",
       "      <th>1</th>\n",
       "      <td>-122.422385</td>\n",
       "      <td>37.789408</td>\n",
       "      <td>-122.419890</td>\n",
       "      <td>37.766692</td>\n",
       "      <td>300.0</td>\n",
       "      <td>2806.475682</td>\n",
       "      <td>2538.244354</td>\n",
       "      <td>2847.0</td>\n",
       "      <td>522.0</td>\n",
       "      <td>5</td>\n",
       "      <td>1</td>\n",
       "      <td>0.0</td>\n",
       "      <td>0.0</td>\n",
       "      <td>1.0</td>\n",
       "      <td>1.0</td>\n",
       "      <td>0.00</td>\n",
       "      <td>0.0</td>\n",
       "      <td>0.0</td>\n",
       "    </tr>\n",
       "    <tr>\n",
       "      <th>2</th>\n",
       "      <td>-73.885292</td>\n",
       "      <td>40.773060</td>\n",
       "      <td>-74.000076</td>\n",
       "      <td>40.761360</td>\n",
       "      <td>2620.0</td>\n",
       "      <td>14080.134473</td>\n",
       "      <td>9764.679964</td>\n",
       "      <td>14743.0</td>\n",
       "      <td>1916.0</td>\n",
       "      <td>7</td>\n",
       "      <td>20</td>\n",
       "      <td>0.0</td>\n",
       "      <td>0.0</td>\n",
       "      <td>1.0</td>\n",
       "      <td>1.0</td>\n",
       "      <td>0.00</td>\n",
       "      <td>0.0</td>\n",
       "      <td>0.0</td>\n",
       "    </tr>\n",
       "    <tr>\n",
       "      <th>3</th>\n",
       "      <td>-122.401603</td>\n",
       "      <td>37.788975</td>\n",
       "      <td>-122.410958</td>\n",
       "      <td>37.796447</td>\n",
       "      <td>360.0</td>\n",
       "      <td>1873.173072</td>\n",
       "      <td>1170.082524</td>\n",
       "      <td>1724.0</td>\n",
       "      <td>512.0</td>\n",
       "      <td>1</td>\n",
       "      <td>23</td>\n",
       "      <td>0.0</td>\n",
       "      <td>0.0</td>\n",
       "      <td>1.0</td>\n",
       "      <td>0.0</td>\n",
       "      <td>0.00</td>\n",
       "      <td>0.0</td>\n",
       "      <td>0.0</td>\n",
       "    </tr>\n",
       "    <tr>\n",
       "      <th>4</th>\n",
       "      <td>-74.008728</td>\n",
       "      <td>40.714317</td>\n",
       "      <td>-74.006432</td>\n",
       "      <td>40.731720</td>\n",
       "      <td>582.0</td>\n",
       "      <td>2192.882649</td>\n",
       "      <td>1946.952973</td>\n",
       "      <td>2394.0</td>\n",
       "      <td>611.0</td>\n",
       "      <td>3</td>\n",
       "      <td>12</td>\n",
       "      <td>0.0</td>\n",
       "      <td>0.0</td>\n",
       "      <td>1.0</td>\n",
       "      <td>0.0</td>\n",
       "      <td>0.00</td>\n",
       "      <td>0.0</td>\n",
       "      <td>0.0</td>\n",
       "    </tr>\n",
       "  </tbody>\n",
       "</table>\n",
       "</div>"
      ],
      "text/plain": [
       "         start_lng  start_lat     end_lng    end_lat  duration     manhattan  \\\n",
       "row_id                                                                         \n",
       "0       -73.783279  40.644718  -73.963799  40.681320    1815.0  24169.910480   \n",
       "1      -122.422385  37.789408 -122.419890  37.766692     300.0   2806.475682   \n",
       "2       -73.885292  40.773060  -74.000076  40.761360    2620.0  14080.134473   \n",
       "3      -122.401603  37.788975 -122.410958  37.796447     360.0   1873.173072   \n",
       "4       -74.008728  40.714317  -74.006432  40.731720     582.0   2192.882649   \n",
       "\n",
       "           euclidean  gmaps_dist  gmaps_duration  weekday  hour  holiday  \\\n",
       "row_id                                                                     \n",
       "0       15778.616804     18754.0          2236.0        5     0      0.0   \n",
       "1        2538.244354      2847.0           522.0        5     1      0.0   \n",
       "2        9764.679964     14743.0          1916.0        7    20      0.0   \n",
       "3        1170.082524      1724.0           512.0        1    23      0.0   \n",
       "4        1946.952973      2394.0           611.0        3    12      0.0   \n",
       "\n",
       "        airport  citycenter  standalone  precipitation  routing_error  \\\n",
       "row_id                                                                  \n",
       "0           0.0         1.0         1.0           0.07            0.0   \n",
       "1           0.0         1.0         1.0           0.00            0.0   \n",
       "2           0.0         1.0         1.0           0.00            0.0   \n",
       "3           0.0         1.0         0.0           0.00            0.0   \n",
       "4           0.0         1.0         0.0           0.00            0.0   \n",
       "\n",
       "        short_trip  \n",
       "row_id              \n",
       "0              0.0  \n",
       "1              0.0  \n",
       "2              0.0  \n",
       "3              0.0  \n",
       "4              0.0  "
      ]
     },
     "execution_count": 209,
     "metadata": {},
     "output_type": "execute_result"
    }
   ],
   "source": [
    "train_df.head()"
   ]
  },
  {
   "cell_type": "code",
   "execution_count": 210,
   "metadata": {},
   "outputs": [
    {
     "data": {
      "text/html": [
       "<div>\n",
       "<style scoped>\n",
       "    .dataframe tbody tr th:only-of-type {\n",
       "        vertical-align: middle;\n",
       "    }\n",
       "\n",
       "    .dataframe tbody tr th {\n",
       "        vertical-align: top;\n",
       "    }\n",
       "\n",
       "    .dataframe thead th {\n",
       "        text-align: right;\n",
       "    }\n",
       "</style>\n",
       "<table border=\"1\" class=\"dataframe\">\n",
       "  <thead>\n",
       "    <tr style=\"text-align: right;\">\n",
       "      <th></th>\n",
       "      <th>start_lng</th>\n",
       "      <th>start_lat</th>\n",
       "      <th>end_lng</th>\n",
       "      <th>end_lat</th>\n",
       "      <th>manhattan</th>\n",
       "      <th>euclidean</th>\n",
       "      <th>gmaps_dist</th>\n",
       "      <th>gmaps_duration</th>\n",
       "      <th>weekday</th>\n",
       "      <th>hour</th>\n",
       "      <th>holiday</th>\n",
       "      <th>airport</th>\n",
       "      <th>citycenter</th>\n",
       "      <th>standalone</th>\n",
       "      <th>precipitation</th>\n",
       "      <th>routing_error</th>\n",
       "      <th>short_trip</th>\n",
       "    </tr>\n",
       "    <tr>\n",
       "      <th>row_id</th>\n",
       "      <th></th>\n",
       "      <th></th>\n",
       "      <th></th>\n",
       "      <th></th>\n",
       "      <th></th>\n",
       "      <th></th>\n",
       "      <th></th>\n",
       "      <th></th>\n",
       "      <th></th>\n",
       "      <th></th>\n",
       "      <th></th>\n",
       "      <th></th>\n",
       "      <th></th>\n",
       "      <th></th>\n",
       "      <th></th>\n",
       "      <th></th>\n",
       "      <th></th>\n",
       "    </tr>\n",
       "  </thead>\n",
       "  <tbody>\n",
       "    <tr>\n",
       "      <th>0</th>\n",
       "      <td>-74.001488</td>\n",
       "      <td>40.726170</td>\n",
       "      <td>-73.962097</td>\n",
       "      <td>40.764500</td>\n",
       "      <td>8651.862144</td>\n",
       "      <td>5407.668349</td>\n",
       "      <td>8956.0</td>\n",
       "      <td>1417.0</td>\n",
       "      <td>6</td>\n",
       "      <td>23</td>\n",
       "      <td>0.0</td>\n",
       "      <td>0.0</td>\n",
       "      <td>1.0</td>\n",
       "      <td>0.0</td>\n",
       "      <td>1.12</td>\n",
       "      <td>0.0</td>\n",
       "      <td>0.0</td>\n",
       "    </tr>\n",
       "    <tr>\n",
       "      <th>1</th>\n",
       "      <td>-122.454077</td>\n",
       "      <td>37.774170</td>\n",
       "      <td>-122.428070</td>\n",
       "      <td>37.777023</td>\n",
       "      <td>3212.680504</td>\n",
       "      <td>2310.256486</td>\n",
       "      <td>2496.0</td>\n",
       "      <td>543.0</td>\n",
       "      <td>1</td>\n",
       "      <td>1</td>\n",
       "      <td>0.0</td>\n",
       "      <td>0.0</td>\n",
       "      <td>0.0</td>\n",
       "      <td>1.0</td>\n",
       "      <td>0.00</td>\n",
       "      <td>0.0</td>\n",
       "      <td>0.0</td>\n",
       "    </tr>\n",
       "    <tr>\n",
       "      <th>2</th>\n",
       "      <td>-73.976753</td>\n",
       "      <td>40.751575</td>\n",
       "      <td>-73.789917</td>\n",
       "      <td>40.646965</td>\n",
       "      <td>32443.620314</td>\n",
       "      <td>19602.182904</td>\n",
       "      <td>26975.0</td>\n",
       "      <td>1693.0</td>\n",
       "      <td>6</td>\n",
       "      <td>11</td>\n",
       "      <td>0.0</td>\n",
       "      <td>0.0</td>\n",
       "      <td>1.0</td>\n",
       "      <td>0.0</td>\n",
       "      <td>0.00</td>\n",
       "      <td>0.0</td>\n",
       "      <td>0.0</td>\n",
       "    </tr>\n",
       "    <tr>\n",
       "      <th>3</th>\n",
       "      <td>-122.405967</td>\n",
       "      <td>37.778165</td>\n",
       "      <td>-122.430198</td>\n",
       "      <td>37.759545</td>\n",
       "      <td>4770.151500</td>\n",
       "      <td>2973.693913</td>\n",
       "      <td>4504.0</td>\n",
       "      <td>689.0</td>\n",
       "      <td>1</td>\n",
       "      <td>5</td>\n",
       "      <td>0.0</td>\n",
       "      <td>0.0</td>\n",
       "      <td>1.0</td>\n",
       "      <td>1.0</td>\n",
       "      <td>0.00</td>\n",
       "      <td>0.0</td>\n",
       "      <td>0.0</td>\n",
       "    </tr>\n",
       "    <tr>\n",
       "      <th>4</th>\n",
       "      <td>-73.988197</td>\n",
       "      <td>40.750187</td>\n",
       "      <td>-73.872711</td>\n",
       "      <td>40.774292</td>\n",
       "      <td>15539.199039</td>\n",
       "      <td>10100.308894</td>\n",
       "      <td>14538.0</td>\n",
       "      <td>1264.0</td>\n",
       "      <td>4</td>\n",
       "      <td>9</td>\n",
       "      <td>0.0</td>\n",
       "      <td>0.0</td>\n",
       "      <td>1.0</td>\n",
       "      <td>1.0</td>\n",
       "      <td>0.01</td>\n",
       "      <td>0.0</td>\n",
       "      <td>0.0</td>\n",
       "    </tr>\n",
       "  </tbody>\n",
       "</table>\n",
       "</div>"
      ],
      "text/plain": [
       "         start_lng  start_lat     end_lng    end_lat     manhattan  \\\n",
       "row_id                                                               \n",
       "0       -74.001488  40.726170  -73.962097  40.764500   8651.862144   \n",
       "1      -122.454077  37.774170 -122.428070  37.777023   3212.680504   \n",
       "2       -73.976753  40.751575  -73.789917  40.646965  32443.620314   \n",
       "3      -122.405967  37.778165 -122.430198  37.759545   4770.151500   \n",
       "4       -73.988197  40.750187  -73.872711  40.774292  15539.199039   \n",
       "\n",
       "           euclidean  gmaps_dist  gmaps_duration  weekday  hour  holiday  \\\n",
       "row_id                                                                     \n",
       "0        5407.668349      8956.0          1417.0        6    23      0.0   \n",
       "1        2310.256486      2496.0           543.0        1     1      0.0   \n",
       "2       19602.182904     26975.0          1693.0        6    11      0.0   \n",
       "3        2973.693913      4504.0           689.0        1     5      0.0   \n",
       "4       10100.308894     14538.0          1264.0        4     9      0.0   \n",
       "\n",
       "        airport  citycenter  standalone  precipitation  routing_error  \\\n",
       "row_id                                                                  \n",
       "0           0.0         1.0         0.0           1.12            0.0   \n",
       "1           0.0         0.0         1.0           0.00            0.0   \n",
       "2           0.0         1.0         0.0           0.00            0.0   \n",
       "3           0.0         1.0         1.0           0.00            0.0   \n",
       "4           0.0         1.0         1.0           0.01            0.0   \n",
       "\n",
       "        short_trip  \n",
       "row_id              \n",
       "0              0.0  \n",
       "1              0.0  \n",
       "2              0.0  \n",
       "3              0.0  \n",
       "4              0.0  "
      ]
     },
     "execution_count": 210,
     "metadata": {},
     "output_type": "execute_result"
    }
   ],
   "source": [
    "test_df.head()"
   ]
  },
  {
   "cell_type": "code",
   "execution_count": 211,
   "metadata": {
    "scrolled": true
   },
   "outputs": [],
   "source": [
    "# Show correlation table\n",
    "def correlation_table(train_df):\n",
    "    colormap = plt.cm.viridis\n",
    "    plt.figure(figsize=(10,10))\n",
    "    plt.title('Pearson Correlation of Features', y=1.05, size=15)\n",
    "    sb.heatmap(train_df.corr().round(2)\\\n",
    "                ,linewidths=0.1,vmax=1.0, square=True, cmap=colormap, \\\n",
    "                linecolor='white', annot=True);"
   ]
  },
  {
   "cell_type": "code",
   "execution_count": 212,
   "metadata": {},
   "outputs": [
    {
     "data": {
      "image/png": "[encoded data removed]",
      "text/plain": [
       "<Figure size 720x720 with 2 Axes>"
      ]
     },
     "metadata": {
      "needs_background": "light"
     },
     "output_type": "display_data"
    }
   ],
   "source": [
    "correlation_table(train_df)"
   ]
  },
  {
   "cell_type": "markdown",
   "metadata": {},
   "source": [
    "# Step 3: Prediction Model"
   ]
  },
  {
   "cell_type": "markdown",
   "metadata": {},
   "source": [
    "## Define functions"
   ]
  },
  {
   "cell_type": "code",
   "execution_count": 213,
   "metadata": {
    "scrolled": true
   },
   "outputs": [],
   "source": [
    "# Plot feature importances\n",
    "def plot_model_var_imp(model, X):\n",
    "    imp = pd.DataFrame(model.feature_importances_,\n",
    "                       columns = ['Importance'],\n",
    "                       index = X.columns).sort_values(['Importance'], ascending=True)\n",
    "    imp.plot(kind = 'barh')\n",
    "    plt.show()"
   ]
  },
  {
   "cell_type": "code",
   "execution_count": 214,
   "metadata": {},
   "outputs": [],
   "source": [
    "# Normalize data - not used for XGBoost and Random Forest\n",
    "def normalizer(X):\n",
    "    \n",
    "    features = []\n",
    "    \n",
    "    coords = X[[\"start_lng\", \"start_lat\", \"end_lng\", \"end_lat\"]]\n",
    "    coordsnorm = pd.DataFrame(MinMaxScaler(feature_range=(-1,1)).fit_transform(coords), index=coords.index, columns=coords.columns)\n",
    "    features.append(coordsnorm)\n",
    "\n",
    "    dist = X[[\"manhattan\", \"euclidean\", \"gmaps_dist\", \"gmaps_duration\"]]\n",
    "    distnorm = pd.DataFrame(MinMaxScaler(feature_range=(0,10)).fit_transform(dist), index=dist.index, columns=dist.columns)\n",
    "    features.append(distnorm)\n",
    "\n",
    "    precipitation = X[[\"precipitation\"]]\n",
    "    precnorm = pd.DataFrame(MinMaxScaler(feature_range=(0,1)).fit_transform(precipitation), index=precipitation.index, columns=precipitation.columns)\n",
    "    features.append(precnorm)\n",
    "    \n",
    "    times = X[[\"weekday\", \"hour\"]]\n",
    "    timesnorm = pd.DataFrame(MinMaxScaler(feature_range=(0,5)).fit_transform(times), index=times.index, columns=times.columns)\n",
    "    features.append(timesnorm)\n",
    "    \n",
    "    flags = X[[\"holiday\", \"airport\", \"citycenter\", \"standalone\", \"routing_error\", \"short_trip\"]]\n",
    "    features.append(flags)\n",
    "\n",
    "    Xnorm = pd.concat(features, axis=1)\n",
    "    \n",
    "    return Xnorm"
   ]
  },
  {
   "cell_type": "code",
   "execution_count": 233,
   "metadata": {},
   "outputs": [],
   "source": [
    "# Fit model (only XGBoost here)\n",
    "def regression(train_df, LINREG=False, RIDGE=False, LASSO=False, SVMR=False, XGB=True, RF=False, NN=False):\n",
    "    X = train_df.drop(\"duration\", axis=1)\n",
    "    Y = train_df.duration\n",
    "    Xn = normalizer(X)\n",
    "    \n",
    "    np.random.seed(1) # set random seed for reproducibility\n",
    "    X_train, X_val, Y_train, Y_val = train_test_split(X, Y, test_size=0.2)\n",
    "    Xn_train, Xn_val, Yn_train, Yn_val = train_test_split(Xn, Y, test_size=0.2)\n",
    "    \n",
    "    # Linear Regression\n",
    "    if LINREG:\n",
    "        st = time.time()\n",
    "        lin_reg = LinearRegression(normalize=True)\n",
    "        lin_reg.fit(Xn_train, Yn_train)\n",
    "        pred_lr = lin_reg.predict(Xn_val)\n",
    "\n",
    "        print('Linear Regression RMSE with {0} training data points:'.format(len(Xn_train)),\n",
    "              str(np.sqrt(mean_squared_error(pred_lr, Yn_val))))\n",
    "        print('Linear Regression CPU Time:', time.time() - st, 'seconds\\n')\n",
    "    else:\n",
    "        lin_reg = None\n",
    "    \n",
    "    # Ridge Regression\n",
    "    if RIDGE:\n",
    "        st = time.time()\n",
    "        ridge = Ridge(alpha=0.5)\n",
    "        ridge.fit(Xn_train, Yn_train)\n",
    "        pred_ridge = ridge.predict(Xn_val)\n",
    "\n",
    "        print('Ridge Regression RMSE with {0} training data points:'.format(len(Xn_train)),\n",
    "              str(np.sqrt(mean_squared_error(pred_ridge, Yn_val))))\n",
    "        print('Ridge Regression CPU Time:', time.time() - st, 'seconds\\n')\n",
    "    else:\n",
    "        ridge = None\n",
    "        \n",
    "    # Lasso Regression\n",
    "    if LASSO:\n",
    "        st = time.time()\n",
    "        lasso = Lasso(alpha=0.1, max_iter=5000)\n",
    "        lasso.fit(Xn_train, Yn_train)\n",
    "        pred_lasso = lasso.predict(Xn_val)\n",
    "\n",
    "        print('Lasso Regression RMSE with {0} training data points:'.format(len(Xn_train)),\n",
    "              str(np.sqrt(mean_squared_error(pred_lasso, Yn_val))))\n",
    "        print('Lasso Regression CPU Time:', time.time() - st, 'seconds\\n')\n",
    "    else:\n",
    "        lasso = None\n",
    "    \n",
    "    # Support Vector Machines Regressor (non-linear kernel)\n",
    "    if SVMR:\n",
    "        st = time.time()\n",
    "        svr = SVR()\n",
    "        svr.fit(X_train, Y_train)\n",
    "        pred_svr = svr.predict(X_val)\n",
    "\n",
    "        print('Support Vector Regressor RMSE with {0} training data points:'.format(len(X_train)),\n",
    "              str(np.sqrt(mean_squared_error(pred_svr, Y_val))))\n",
    "        print('Support Vector Regressor CPU Time:', time.time() - st, 'seconds\\n')\n",
    "    else:\n",
    "        svr = None\n",
    "    \n",
    "    # XGBoost\n",
    "    if XGB:\n",
    "        st = time.time()\n",
    "        xgb = XGBRegressor(max_depth=9, learning_rate=0.045, n_estimators=500, reg_lambda=0.5)\n",
    "        xgb.fit(X_train, Y_train)\n",
    "        pred_xgb = xgb.predict(X_val)\n",
    "\n",
    "        print('XGBoost RMSE with {0} training data points:'.format(len(X_train)),\n",
    "              str(np.sqrt(mean_squared_error(pred_xgb, Y_val))))\n",
    "        print('XGBoost CPU Time:', time.time() - st, 'seconds\\n')\n",
    "        plot_model_var_imp(xgb, X_train)\n",
    "    else:\n",
    "        xgb = None\n",
    "    \n",
    "    # Random Forest\n",
    "    if RF:\n",
    "        st = time.time()\n",
    "        random_forest = RandomForestRegressor(n_estimators=500)\n",
    "        random_forest.fit(X_train, Y_train)\n",
    "        pred_rf = random_forest.predict(X_val)\n",
    "\n",
    "        print('Random Forest RMSE with {0} training data points:'.format(len(X_train)),\n",
    "              str(np.sqrt(mean_squared_error(pred_rf, Y_val))))\n",
    "        print('Random Forest CPU Time:', time.time() - st, 'seconds\\n')\n",
    "        plot_model_var_imp(random_forest, X_train)\n",
    "    else:\n",
    "        random_forest = None\n",
    "    \n",
    "    # Neural Network\n",
    "    if NN:\n",
    "        st = time.time()\n",
    "        NN_model = Sequential()\n",
    "        NN_model.add(Dense(20, kernel_initializer='normal', input_dim=Xn_train.shape[1], activation='relu'))\n",
    "        NN_model.add(Dense(150, activation='relu', activity_regularizer=l2(0.2)))\n",
    "        NN_model.add(Dense(60, activation='relu', activity_regularizer=l2(0.2)))\n",
    "        NN_model.add(Dense(1, kernel_initializer='normal', activation='linear'))\n",
    "        NN_model.compile(loss='mse', optimizer='adam')\n",
    "        history = NN_model.fit(Xn_train, Yn_train, epochs=150, batch_size=50, verbose=2, validation_split=0.2)\n",
    "\n",
    "        plt.figure()\n",
    "        plt.plot(history.history['loss'])\n",
    "        plt.plot(history.history['val_loss'])\n",
    "        plt.title('model loss')\n",
    "        plt.ylabel('loss')\n",
    "        plt.xlabel('epoch')\n",
    "        plt.legend(['train', 'validation'], loc='upper left')\n",
    "        plt.show()\n",
    "\n",
    "        pred_nn = NN_model.predict(Xn_val)\n",
    "        print('Neural Network RMSE with {0} training data points:'.format(len(Xn_train)),\n",
    "              str(np.sqrt(mean_squared_error(pred_nn, Yn_val))))\n",
    "        print('Neural Network CPU Time:', time.time() - st, 'seconds\\n')\n",
    "    else:\n",
    "        NN_model = None\n",
    "    \n",
    "    models = {\"Linear Regression\": lin_reg,\n",
    "              \"Ridge Regression\": ridge,\n",
    "              \"Lasso Regression\": lasso,\n",
    "              \"SVR\": svr,\n",
    "              \"Random Forest\": random_forest,\n",
    "              \"XGBoost\": xgb,\n",
    "              \"Neural Network\": NN_model}\n",
    "\n",
    "    return models"
   ]
  },
  {
   "cell_type": "markdown",
   "metadata": {},
   "source": [
    "## Fit model"
   ]
  },
  {
   "cell_type": "code",
   "execution_count": 234,
   "metadata": {},
   "outputs": [
    {
     "name": "stdout",
     "output_type": "stream",
     "text": [
      "Linear Regression RMSE with 112764 training data points: 342.467268018\n",
      "Linear Regression CPU Time: 0.254108190536499 seconds\n",
      "\n",
      "XGBoost RMSE with 112764 training data points: 296.928056204\n",
      "XGBoost CPU Time: 130.43942379951477 seconds\n",
      "\n"
     ]
    },
    {
     "data": {
      "image/png": "[encoded data removed]",
      "text/plain": [
       "<Figure size 432x288 with 1 Axes>"
      ]
     },
     "metadata": {
      "needs_background": "light"
     },
     "output_type": "display_data"
    },
    {
     "name": "stdout",
     "output_type": "stream",
     "text": [
      "Random Forest RMSE with 112764 training data points: 302.67089157\n",
      "Random Forest CPU Time: 678.2814381122589 seconds\n",
      "\n"
     ]
    },
    {
     "data": {
      "image/png": "[encoded data removed]",
      "text/plain": [
       "<Figure size 432x288 with 1 Axes>"
      ]
     },
     "metadata": {
      "needs_background": "light"
     },
     "output_type": "display_data"
    },
    {
     "ename": "NameError",
     "evalue": "name 'l2' is not defined",
     "output_type": "error",
     "traceback": [
      "\u001b[0;31m---------------------------------------------------------------------------\u001b[0m",
      "\u001b[0;31mNameError\u001b[0m                                 Traceback (most recent call last)",
      "\u001b[0;32m<ipython-input-234-cca455658ae6>\u001b[0m in \u001b[0;36m<module>\u001b[0;34m\u001b[0m\n\u001b[0;32m----> 1\u001b[0;31m \u001b[0mmodels\u001b[0m\u001b[0;34m,\u001b[0m \u001b[0mX_train\u001b[0m\u001b[0;34m,\u001b[0m \u001b[0mX_val\u001b[0m\u001b[0;34m,\u001b[0m \u001b[0mY_train\u001b[0m\u001b[0;34m,\u001b[0m \u001b[0mY_val\u001b[0m \u001b[0;34m=\u001b[0m \u001b[0mregression\u001b[0m\u001b[0;34m(\u001b[0m\u001b[0mtrain_df\u001b[0m\u001b[0;34m,\u001b[0m \u001b[0mLINREG\u001b[0m\u001b[0;34m=\u001b[0m\u001b[0;32mTrue\u001b[0m\u001b[0;34m,\u001b[0m \u001b[0mRF\u001b[0m\u001b[0;34m=\u001b[0m\u001b[0;32mTrue\u001b[0m\u001b[0;34m,\u001b[0m \u001b[0mNN\u001b[0m\u001b[0;34m=\u001b[0m\u001b[0;32mTrue\u001b[0m\u001b[0;34m)\u001b[0m\u001b[0;34m\u001b[0m\u001b[0m\n\u001b[0m",
      "\u001b[0;32m<ipython-input-233-7fc3808cd405>\u001b[0m in \u001b[0;36mregression\u001b[0;34m(train_df, LINREG, RIDGE, LASSO, SVMR, XGB, RF, NN)\u001b[0m\n\u001b[1;32m     94\u001b[0m         \u001b[0mNN_model\u001b[0m \u001b[0;34m=\u001b[0m \u001b[0mSequential\u001b[0m\u001b[0;34m(\u001b[0m\u001b[0;34m)\u001b[0m\u001b[0;34m\u001b[0m\u001b[0m\n\u001b[1;32m     95\u001b[0m         \u001b[0mNN_model\u001b[0m\u001b[0;34m.\u001b[0m\u001b[0madd\u001b[0m\u001b[0;34m(\u001b[0m\u001b[0mDense\u001b[0m\u001b[0;34m(\u001b[0m\u001b[0;36m20\u001b[0m\u001b[0;34m,\u001b[0m \u001b[0mkernel_initializer\u001b[0m\u001b[0;34m=\u001b[0m\u001b[0;34m'normal'\u001b[0m\u001b[0;34m,\u001b[0m \u001b[0minput_dim\u001b[0m\u001b[0;34m=\u001b[0m\u001b[0mXn_train\u001b[0m\u001b[0;34m.\u001b[0m\u001b[0mshape\u001b[0m\u001b[0;34m[\u001b[0m\u001b[0;36m1\u001b[0m\u001b[0;34m]\u001b[0m\u001b[0;34m,\u001b[0m \u001b[0mactivation\u001b[0m\u001b[0;34m=\u001b[0m\u001b[0;34m'relu'\u001b[0m\u001b[0;34m)\u001b[0m\u001b[0;34m)\u001b[0m\u001b[0;34m\u001b[0m\u001b[0m\n\u001b[0;32m---> 96\u001b[0;31m         \u001b[0mNN_model\u001b[0m\u001b[0;34m.\u001b[0m\u001b[0madd\u001b[0m\u001b[0;34m(\u001b[0m\u001b[0mDense\u001b[0m\u001b[0;34m(\u001b[0m\u001b[0;36m150\u001b[0m\u001b[0;34m,\u001b[0m \u001b[0mactivation\u001b[0m\u001b[0;34m=\u001b[0m\u001b[0;34m'relu'\u001b[0m\u001b[0;34m,\u001b[0m \u001b[0mactivity_regularizer\u001b[0m\u001b[0;34m=\u001b[0m\u001b[0ml2\u001b[0m\u001b[0;34m(\u001b[0m\u001b[0;36m0.2\u001b[0m\u001b[0;34m)\u001b[0m\u001b[0;34m)\u001b[0m\u001b[0;34m)\u001b[0m\u001b[0;34m\u001b[0m\u001b[0m\n\u001b[0m\u001b[1;32m     97\u001b[0m         \u001b[0mNN_model\u001b[0m\u001b[0;34m.\u001b[0m\u001b[0madd\u001b[0m\u001b[0;34m(\u001b[0m\u001b[0mDense\u001b[0m\u001b[0;34m(\u001b[0m\u001b[0;36m60\u001b[0m\u001b[0;34m,\u001b[0m \u001b[0mactivation\u001b[0m\u001b[0;34m=\u001b[0m\u001b[0;34m'relu'\u001b[0m\u001b[0;34m,\u001b[0m \u001b[0mactivity_regularizer\u001b[0m\u001b[0;34m=\u001b[0m\u001b[0ml2\u001b[0m\u001b[0;34m(\u001b[0m\u001b[0;36m0.2\u001b[0m\u001b[0;34m)\u001b[0m\u001b[0;34m)\u001b[0m\u001b[0;34m)\u001b[0m\u001b[0;34m\u001b[0m\u001b[0m\n\u001b[1;32m     98\u001b[0m         \u001b[0mNN_model\u001b[0m\u001b[0;34m.\u001b[0m\u001b[0madd\u001b[0m\u001b[0;34m(\u001b[0m\u001b[0mDense\u001b[0m\u001b[0;34m(\u001b[0m\u001b[0;36m1\u001b[0m\u001b[0;34m,\u001b[0m \u001b[0mkernel_initializer\u001b[0m\u001b[0;34m=\u001b[0m\u001b[0;34m'normal'\u001b[0m\u001b[0;34m,\u001b[0m \u001b[0mactivation\u001b[0m\u001b[0;34m=\u001b[0m\u001b[0;34m'linear'\u001b[0m\u001b[0;34m)\u001b[0m\u001b[0;34m)\u001b[0m\u001b[0;34m\u001b[0m\u001b[0m\n",
      "\u001b[0;31mNameError\u001b[0m: name 'l2' is not defined"
     ]
    }
   ],
   "source": [
    "models = regression(train_df)"
   ]
  },
  {
   "cell_type": "code",
   "execution_count": 237,
   "metadata": {},
   "outputs": [],
   "source": [
    "# Predict durations\n",
    "xgb = models[\"XGBoost\"]\n",
    "test_pred = xgb.predict(test_df)"
   ]
  },
  {
   "cell_type": "markdown",
   "metadata": {},
   "source": [
    "## Compare prediction with training data"
   ]
  },
  {
   "cell_type": "code",
   "execution_count": 225,
   "metadata": {},
   "outputs": [],
   "source": [
    "# Comparing histograms of predictions\n",
    "def compare_predictions(pred_1, pred_2):\n",
    "    bins = np.histogram(np.hstack((pred_1, pred_2)), bins=100)[1] #get the bin edges\n",
    "    plt.hist(pred_1, bins=bins, alpha=1)\n",
    "    plt.hist(pred_2, bins=bins, alpha=0.7)\n",
    "    plt.title(\"Prediction 1 vs Prediction 2\")\n",
    "    plt.xlabel(\"Duration [s]\")\n",
    "    plt.ylabel(\"Number of instances\")\n",
    "    plt.legend([\"Prediction 1\", \"Prediction 2\"])\n",
    "    plt.show()"
   ]
  },
  {
   "cell_type": "code",
   "execution_count": 226,
   "metadata": {},
   "outputs": [
    {
     "data": {
      "image/png": "[encoded data removed]",
      "text/plain": [
       "<Figure size 432x288 with 1 Axes>"
      ]
     },
     "metadata": {
      "needs_background": "light"
     },
     "output_type": "display_data"
    }
   ],
   "source": [
    "compare_predictions(train_df.sample(len(test_df)).duration.values, test_pred)"
   ]
  },
  {
   "cell_type": "markdown",
   "metadata": {},
   "source": [
    "# Step 4: Export as .csv-file"
   ]
  },
  {
   "cell_type": "code",
   "execution_count": 229,
   "metadata": {},
   "outputs": [],
   "source": [
    "def to_submission(prediction):\n",
    "    date_string = datetime.datetime.now().strftime(\"%Y%m%d_%H%M%S\")\n",
    "    file_string = \"output/test_prediction_\" + date_string + \".csv\"\n",
    "    \n",
    "    try:\n",
    "        df = pd.DataFrame(prediction, columns=[\"duration\"])\n",
    "    except:\n",
    "        df = pd.DataFrame(prediction.flatten(), columns=[\"duration\"])\n",
    "        \n",
    "    df.index.name = \"row_id\"\n",
    "    df.to_csv(file_string)"
   ]
  },
  {
   "cell_type": "code",
   "execution_count": 230,
   "metadata": {},
   "outputs": [],
   "source": [
    "to_submission(test_pred)"
   ]
  },
  {
   "cell_type": "markdown",
   "metadata": {},
   "source": [
    "# Appendix: XGBoost parameter tuning\n",
    "\n",
    "This section shows how hyperparameter tuning would work for the XGBoost algorithm, searching for the optimal value of ```max_depth``` and ```learning_rate```."
   ]
  },
  {
   "cell_type": "code",
   "execution_count": 180,
   "metadata": {},
   "outputs": [],
   "source": [
    "# Prepare training data\n",
    "X = train_df.drop(\"duration\", axis=1)\n",
    "Y = train_df.duration\n",
    "X_train, X_val, Y_train, Y_val = train_test_split(X, Y, test_size=0.2)"
   ]
  },
  {
   "cell_type": "code",
   "execution_count": 185,
   "metadata": {},
   "outputs": [
    {
     "name": "stderr",
     "output_type": "stream",
     "text": [
      "\n",
      "\n",
      "\n",
      "\n",
      "  0%|          | 0/5 [00:00<?, ?it/s]\u001b[A\u001b[A\u001b[A\u001b[A\n",
      "\n",
      "\n",
      "\n",
      "\n",
      "  0%|          | 0/6 [00:00<?, ?it/s]\u001b[A\u001b[A\u001b[A\u001b[A\u001b[A"
     ]
    },
    {
     "name": "stdout",
     "output_type": "stream",
     "text": [
      "Now training:\tmax_depth = 7\tlearning_rate = 0.04\n"
     ]
    },
    {
     "name": "stderr",
     "output_type": "stream",
     "text": [
      "\n",
      "\n",
      "\n",
      "\n",
      "\n",
      " 17%|█▋        | 1/6 [01:24<07:01, 84.30s/it]\u001b[A\u001b[A\u001b[A\u001b[A\u001b[A"
     ]
    },
    {
     "name": "stdout",
     "output_type": "stream",
     "text": [
      "RMSE: 329.93506048561176 \n",
      "\n",
      "Now training:\tmax_depth = 7\tlearning_rate = 0.042\n"
     ]
    },
    {
     "name": "stderr",
     "output_type": "stream",
     "text": [
      "\n",
      "\n",
      "\n",
      "\n",
      "\n",
      " 33%|███▎      | 2/6 [02:49<05:37, 84.44s/it]\u001b[A\u001b[A\u001b[A\u001b[A\u001b[A"
     ]
    },
    {
     "name": "stdout",
     "output_type": "stream",
     "text": [
      "RMSE: 330.2929963034172 \n",
      "\n",
      "Now training:\tmax_depth = 7\tlearning_rate = 0.044\n"
     ]
    },
    {
     "name": "stderr",
     "output_type": "stream",
     "text": [
      "\n",
      "\n",
      "\n",
      "\n",
      "\n",
      " 50%|█████     | 3/6 [04:12<04:12, 84.19s/it]\u001b[A\u001b[A\u001b[A\u001b[A\u001b[A"
     ]
    },
    {
     "name": "stdout",
     "output_type": "stream",
     "text": [
      "RMSE: 330.4512120600274 \n",
      "\n",
      "Now training:\tmax_depth = 7\tlearning_rate = 0.046\n"
     ]
    },
    {
     "name": "stderr",
     "output_type": "stream",
     "text": [
      "\n",
      "\n",
      "\n",
      "\n",
      "\n",
      " 67%|██████▋   | 4/6 [05:36<02:48, 84.05s/it]\u001b[A\u001b[A\u001b[A\u001b[A\u001b[A"
     ]
    },
    {
     "name": "stdout",
     "output_type": "stream",
     "text": [
      "RMSE: 330.1820328639759 \n",
      "\n",
      "Now training:\tmax_depth = 7\tlearning_rate = 0.048\n"
     ]
    },
    {
     "name": "stderr",
     "output_type": "stream",
     "text": [
      "\n",
      "\n",
      "\n",
      "\n",
      "\n",
      " 83%|████████▎ | 5/6 [07:13<01:27, 87.99s/it]\u001b[A\u001b[A\u001b[A\u001b[A\u001b[A"
     ]
    },
    {
     "name": "stdout",
     "output_type": "stream",
     "text": [
      "RMSE: 330.17991222326424 \n",
      "\n",
      "Now training:\tmax_depth = 7\tlearning_rate = 0.05\n"
     ]
    },
    {
     "name": "stderr",
     "output_type": "stream",
     "text": [
      "\n",
      "\n",
      "\n",
      "\n",
      "\n",
      "100%|██████████| 6/6 [08:42<00:00, 88.24s/it]\u001b[A\u001b[A\u001b[A\u001b[A\u001b[A\n",
      "\n",
      "\n",
      "\n",
      " 20%|██        | 1/5 [08:42<34:49, 522.40s/it]\u001b[A\u001b[A\u001b[A\u001b[A\n",
      "\n",
      "\n",
      "\n",
      "\n",
      "  0%|          | 0/6 [00:00<?, ?it/s]\u001b[A\u001b[A\u001b[A\u001b[A\u001b[A"
     ]
    },
    {
     "name": "stdout",
     "output_type": "stream",
     "text": [
      "RMSE: 329.34291666627536 \n",
      "\n",
      "Now training:\tmax_depth = 8\tlearning_rate = 0.04\n"
     ]
    },
    {
     "name": "stderr",
     "output_type": "stream",
     "text": [
      "\n",
      "\n",
      "\n",
      "\n",
      "\n",
      " 17%|█▋        | 1/6 [01:50<09:10, 110.14s/it]\u001b[A\u001b[A\u001b[A\u001b[A\u001b[A"
     ]
    },
    {
     "name": "stdout",
     "output_type": "stream",
     "text": [
      "RMSE: 330.4505976833322 \n",
      "\n",
      "Now training:\tmax_depth = 8\tlearning_rate = 0.042\n"
     ]
    },
    {
     "name": "stderr",
     "output_type": "stream",
     "text": [
      "\n",
      "\n",
      "\n",
      "\n",
      "\n",
      " 33%|███▎      | 2/6 [03:38<07:18, 109.67s/it]\u001b[A\u001b[A\u001b[A\u001b[A\u001b[A"
     ]
    },
    {
     "name": "stdout",
     "output_type": "stream",
     "text": [
      "RMSE: 329.77440350010954 \n",
      "\n",
      "Now training:\tmax_depth = 8\tlearning_rate = 0.044\n"
     ]
    },
    {
     "name": "stderr",
     "output_type": "stream",
     "text": [
      "\n",
      "\n",
      "\n",
      "\n",
      "\n",
      " 50%|█████     | 3/6 [05:25<05:26, 108.90s/it]\u001b[A\u001b[A\u001b[A\u001b[A\u001b[A"
     ]
    },
    {
     "name": "stdout",
     "output_type": "stream",
     "text": [
      "RMSE: 329.55107844943814 \n",
      "\n",
      "Now training:\tmax_depth = 8\tlearning_rate = 0.046\n"
     ]
    },
    {
     "name": "stderr",
     "output_type": "stream",
     "text": [
      "\n",
      "\n",
      "\n",
      "\n",
      "\n",
      " 67%|██████▋   | 4/6 [07:16<03:39, 109.52s/it]\u001b[A\u001b[A\u001b[A\u001b[A\u001b[A"
     ]
    },
    {
     "name": "stdout",
     "output_type": "stream",
     "text": [
      "RMSE: 330.16935013287434 \n",
      "\n",
      "Now training:\tmax_depth = 8\tlearning_rate = 0.048\n"
     ]
    },
    {
     "name": "stderr",
     "output_type": "stream",
     "text": [
      "\n",
      "\n",
      "\n",
      "\n",
      "\n",
      " 83%|████████▎ | 5/6 [09:08<01:50, 110.08s/it]\u001b[A\u001b[A\u001b[A\u001b[A\u001b[A"
     ]
    },
    {
     "name": "stdout",
     "output_type": "stream",
     "text": [
      "RMSE: 329.8451651945308 \n",
      "\n",
      "Now training:\tmax_depth = 8\tlearning_rate = 0.05\n"
     ]
    },
    {
     "name": "stderr",
     "output_type": "stream",
     "text": [
      "\n",
      "\n",
      "\n",
      "\n",
      "\n",
      "100%|██████████| 6/6 [10:56<00:00, 109.61s/it]\u001b[A\u001b[A\u001b[A\u001b[A\u001b[A\n",
      "\n",
      "\n",
      "\n",
      " 40%|████      | 2/5 [19:39<28:08, 562.69s/it]\u001b[A\u001b[A\u001b[A\u001b[A\n",
      "\n",
      "\n",
      "\n",
      "\n",
      "  0%|          | 0/6 [00:00<?, ?it/s]\u001b[A\u001b[A\u001b[A\u001b[A\u001b[A"
     ]
    },
    {
     "name": "stdout",
     "output_type": "stream",
     "text": [
      "RMSE: 330.1036654677163 \n",
      "\n",
      "Now training:\tmax_depth = 9\tlearning_rate = 0.04\n"
     ]
    },
    {
     "name": "stderr",
     "output_type": "stream",
     "text": [
      "\n",
      "\n",
      "\n",
      "\n",
      "\n",
      " 17%|█▋        | 1/6 [01:59<09:59, 119.96s/it]\u001b[A\u001b[A\u001b[A\u001b[A\u001b[A"
     ]
    },
    {
     "name": "stdout",
     "output_type": "stream",
     "text": [
      "RMSE: 328.7138433417013 \n",
      "\n",
      "Now training:\tmax_depth = 9\tlearning_rate = 0.042\n"
     ]
    },
    {
     "name": "stderr",
     "output_type": "stream",
     "text": [
      "\n",
      "\n",
      "\n",
      "\n",
      "\n",
      " 33%|███▎      | 2/6 [03:54<07:53, 118.30s/it]\u001b[A\u001b[A\u001b[A\u001b[A\u001b[A"
     ]
    },
    {
     "name": "stdout",
     "output_type": "stream",
     "text": [
      "RMSE: 330.03747006902 \n",
      "\n",
      "Now training:\tmax_depth = 9\tlearning_rate = 0.044\n"
     ]
    },
    {
     "name": "stderr",
     "output_type": "stream",
     "text": [
      "\n",
      "\n",
      "\n",
      "\n",
      "\n",
      " 50%|█████     | 3/6 [05:47<05:50, 116.79s/it]\u001b[A\u001b[A\u001b[A\u001b[A\u001b[A"
     ]
    },
    {
     "name": "stdout",
     "output_type": "stream",
     "text": [
      "RMSE: 328.84218146659987 \n",
      "\n",
      "Now training:\tmax_depth = 9\tlearning_rate = 0.046\n"
     ]
    },
    {
     "name": "stderr",
     "output_type": "stream",
     "text": [
      "\n",
      "\n",
      "\n",
      "\n",
      "\n",
      " 67%|██████▋   | 4/6 [07:42<03:52, 116.25s/it]\u001b[A\u001b[A\u001b[A\u001b[A\u001b[A"
     ]
    },
    {
     "name": "stdout",
     "output_type": "stream",
     "text": [
      "RMSE: 330.19293251198394 \n",
      "\n",
      "Now training:\tmax_depth = 9\tlearning_rate = 0.048\n"
     ]
    },
    {
     "name": "stderr",
     "output_type": "stream",
     "text": [
      "\n",
      "\n",
      "\n",
      "\n",
      "\n",
      " 83%|████████▎ | 5/6 [09:37<01:55, 115.78s/it]\u001b[A\u001b[A\u001b[A\u001b[A\u001b[A"
     ]
    },
    {
     "name": "stdout",
     "output_type": "stream",
     "text": [
      "RMSE: 329.60163682438633 \n",
      "\n",
      "Now training:\tmax_depth = 9\tlearning_rate = 0.05\n"
     ]
    },
    {
     "name": "stderr",
     "output_type": "stream",
     "text": [
      "\n",
      "\n",
      "\n",
      "\n",
      "\n",
      "100%|██████████| 6/6 [11:39<00:00, 117.57s/it]\u001b[A\u001b[A\u001b[A\u001b[A\u001b[A\n",
      "\n",
      "\n",
      "\n",
      " 60%|██████    | 3/5 [31:18<20:07, 603.61s/it]\u001b[A\u001b[A\u001b[A\u001b[A\n",
      "\n",
      "\n",
      "\n",
      "\n",
      "  0%|          | 0/6 [00:00<?, ?it/s]\u001b[A\u001b[A\u001b[A\u001b[A\u001b[A"
     ]
    },
    {
     "name": "stdout",
     "output_type": "stream",
     "text": [
      "RMSE: 329.3672578492086 \n",
      "\n",
      "Now training:\tmax_depth = 10\tlearning_rate = 0.04\n"
     ]
    },
    {
     "name": "stderr",
     "output_type": "stream",
     "text": [
      "\n",
      "\n",
      "\n",
      "\n",
      "\n",
      " 17%|█▋        | 1/6 [02:07<10:39, 127.92s/it]\u001b[A\u001b[A\u001b[A\u001b[A\u001b[A"
     ]
    },
    {
     "name": "stdout",
     "output_type": "stream",
     "text": [
      "RMSE: 330.0121941362103 \n",
      "\n",
      "Now training:\tmax_depth = 10\tlearning_rate = 0.042\n"
     ]
    },
    {
     "name": "stderr",
     "output_type": "stream",
     "text": [
      "\n",
      "\n",
      "\n",
      "\n",
      "\n",
      " 33%|███▎      | 2/6 [04:27<08:45, 131.28s/it]\u001b[A\u001b[A\u001b[A\u001b[A\u001b[A"
     ]
    },
    {
     "name": "stdout",
     "output_type": "stream",
     "text": [
      "RMSE: 330.4558240915728 \n",
      "\n",
      "Now training:\tmax_depth = 10\tlearning_rate = 0.044\n"
     ]
    },
    {
     "name": "stderr",
     "output_type": "stream",
     "text": [
      "\n",
      "\n",
      "\n",
      "\n",
      "\n",
      " 50%|█████     | 3/6 [06:48<06:42, 134.32s/it]\u001b[A\u001b[A\u001b[A\u001b[A\u001b[A"
     ]
    },
    {
     "name": "stdout",
     "output_type": "stream",
     "text": [
      "RMSE: 330.22411696002115 \n",
      "\n",
      "Now training:\tmax_depth = 10\tlearning_rate = 0.046\n"
     ]
    },
    {
     "name": "stderr",
     "output_type": "stream",
     "text": [
      "\n",
      "\n",
      "\n",
      "\n",
      "\n",
      " 67%|██████▋   | 4/6 [09:10<04:33, 136.72s/it]\u001b[A\u001b[A\u001b[A\u001b[A\u001b[A"
     ]
    },
    {
     "name": "stdout",
     "output_type": "stream",
     "text": [
      "RMSE: 330.29797209286266 \n",
      "\n",
      "Now training:\tmax_depth = 10\tlearning_rate = 0.048\n"
     ]
    },
    {
     "name": "stderr",
     "output_type": "stream",
     "text": [
      "\n",
      "\n",
      "\n",
      "\n",
      "\n",
      " 83%|████████▎ | 5/6 [11:15<02:13, 133.18s/it]\u001b[A\u001b[A\u001b[A\u001b[A\u001b[A"
     ]
    },
    {
     "name": "stdout",
     "output_type": "stream",
     "text": [
      "RMSE: 330.53889183785674 \n",
      "\n",
      "Now training:\tmax_depth = 10\tlearning_rate = 0.05\n"
     ]
    },
    {
     "name": "stderr",
     "output_type": "stream",
     "text": [
      "\n",
      "\n",
      "\n",
      "\n",
      "\n",
      "100%|██████████| 6/6 [13:20<00:00, 130.58s/it]\u001b[A\u001b[A\u001b[A\u001b[A\u001b[A\n",
      "\n",
      "\n",
      "\n",
      " 80%|████████  | 4/5 [44:38<11:02, 662.60s/it]\u001b[A\u001b[A\u001b[A\u001b[A\n",
      "\n",
      "\n",
      "\n",
      "\n",
      "  0%|          | 0/6 [00:00<?, ?it/s]\u001b[A\u001b[A\u001b[A\u001b[A\u001b[A"
     ]
    },
    {
     "name": "stdout",
     "output_type": "stream",
     "text": [
      "RMSE: 330.6262623648578 \n",
      "\n",
      "Now training:\tmax_depth = 11\tlearning_rate = 0.04\n"
     ]
    },
    {
     "name": "stderr",
     "output_type": "stream",
     "text": [
      "\n",
      "\n",
      "\n",
      "\n",
      "\n",
      " 17%|█▋        | 1/6 [02:21<11:45, 141.06s/it]\u001b[A\u001b[A\u001b[A\u001b[A\u001b[A"
     ]
    },
    {
     "name": "stdout",
     "output_type": "stream",
     "text": [
      "RMSE: 331.1504239555211 \n",
      "\n",
      "Now training:\tmax_depth = 11\tlearning_rate = 0.042\n"
     ]
    },
    {
     "name": "stderr",
     "output_type": "stream",
     "text": [
      "\n",
      "\n",
      "\n",
      "\n",
      "\n",
      " 33%|███▎      | 2/6 [04:49<09:33, 143.26s/it]\u001b[A\u001b[A\u001b[A\u001b[A\u001b[A"
     ]
    },
    {
     "name": "stdout",
     "output_type": "stream",
     "text": [
      "RMSE: 330.74648778089124 \n",
      "\n",
      "Now training:\tmax_depth = 11\tlearning_rate = 0.044\n"
     ]
    },
    {
     "name": "stderr",
     "output_type": "stream",
     "text": [
      "\n",
      "\n",
      "\n",
      "\n",
      "\n",
      " 50%|█████     | 3/6 [07:08<07:06, 142.11s/it]\u001b[A\u001b[A\u001b[A\u001b[A\u001b[A"
     ]
    },
    {
     "name": "stdout",
     "output_type": "stream",
     "text": [
      "RMSE: 330.84958716509715 \n",
      "\n",
      "Now training:\tmax_depth = 11\tlearning_rate = 0.046\n"
     ]
    },
    {
     "name": "stderr",
     "output_type": "stream",
     "text": [
      "\n",
      "\n",
      "\n",
      "\n",
      "\n",
      " 67%|██████▋   | 4/6 [09:26<04:41, 140.82s/it]\u001b[A\u001b[A\u001b[A\u001b[A\u001b[A"
     ]
    },
    {
     "name": "stdout",
     "output_type": "stream",
     "text": [
      "RMSE: 330.7312181759748 \n",
      "\n",
      "Now training:\tmax_depth = 11\tlearning_rate = 0.048\n"
     ]
    },
    {
     "name": "stderr",
     "output_type": "stream",
     "text": [
      "\n",
      "\n",
      "\n",
      "\n",
      "\n",
      " 83%|████████▎ | 5/6 [11:42<02:19, 139.34s/it]\u001b[A\u001b[A\u001b[A\u001b[A\u001b[A"
     ]
    },
    {
     "name": "stdout",
     "output_type": "stream",
     "text": [
      "RMSE: 330.54501972084296 \n",
      "\n",
      "Now training:\tmax_depth = 11\tlearning_rate = 0.05\n"
     ]
    },
    {
     "name": "stderr",
     "output_type": "stream",
     "text": [
      "\n",
      "\n",
      "\n",
      "\n",
      "\n",
      "100%|██████████| 6/6 [13:59<00:00, 138.68s/it]\u001b[A\u001b[A\u001b[A\u001b[A\u001b[A\n",
      "\n",
      "\n",
      "\n",
      "100%|██████████| 5/5 [58:38<00:00, 715.73s/it]\u001b[A\u001b[A\u001b[A\u001b[A"
     ]
    },
    {
     "name": "stdout",
     "output_type": "stream",
     "text": [
      "RMSE: 331.6242922109879 \n",
      "\n"
     ]
    }
   ],
   "source": [
    "# XGBoost hyperparameter tuning\n",
    "max_depths = [7, 8, 9, 10, 11]\n",
    "learning_rates = [0.04, 0.042, 0.044, 0.046, 0.048, 0.05]\n",
    "optimum = np.ones((3,3)) * float('inf')\n",
    "\n",
    "for max_depth in tqdm(max_depths):\n",
    "    for learning_rate in tqdm(learning_rates):\n",
    "        xgb = XGBRegressor(max_depth=max_depth, learning_rate=learning_rate, n_estimators=500, reg_lambda=0.5)\n",
    "        print(\"Now training:\\tmax_depth = {0}\\tlearning_rate = {1}\".format(max_depth, learning_rate))\n",
    "        xgb.fit(X_train, Y_train)\n",
    "        pred_xgb = xgb.predict(X_val)\n",
    "        error = np.sqrt(mean_squared_error(pred_xgb, Y_val))\n",
    "        print(\"RMSE: {0}\".format(error), \"\\n\")\n",
    "        if error < optimum[0,0]:\n",
    "            optimum[2,:], optimum[1,:] = optimum[1,:], optimum[0,:]\n",
    "            optimum[0,:] = np.array([error, max_depth, learning_rate])\n",
    "        elif error < optimum[1,0]:\n",
    "            optimum[2,:] = optimum[1,:]\n",
    "            optimum[1,:] = np.array([error, max_depth, learning_rate])\n",
    "        elif error < optimum[2,0]:\n",
    "            optimum[2,:] = np.array([error, max_depth, learning_rate])"
   ]
  },
  {
   "cell_type": "code",
   "execution_count": 187,
   "metadata": {},
   "outputs": [
    {
     "name": "stdout",
     "output_type": "stream",
     "text": [
      "Optimal hyperparameters: [[  3.28713843e+02   9.00000000e+00   4.00000000e-02]\n",
      " [  3.28842181e+02   9.00000000e+00   4.40000000e-02]\n",
      " [  3.29342917e+02   7.00000000e+00   5.00000000e-02]]\n",
      "Optimal XGBoost RMSE with 112783 training data points: 328.713843342\n"
     ]
    },
    {
     "data": {
      "image/png": "[encoded data removed]",
      "text/plain": [
       "<Figure size 432x288 with 1 Axes>"
      ]
     },
     "metadata": {
      "needs_background": "light"
     },
     "output_type": "display_data"
    }
   ],
   "source": [
    "# Display optimal hyperparameters and fit into model\n",
    "print('Optimal hyperparameters:', optimum)\n",
    "\n",
    "xgb = XGBRegressor(max_depth=int(optimum[0][1]), learning_rate=optimum[0][2], n_estimators=500, reg_lambda=0.5)\n",
    "xgb.fit(X_train, Y_train)\n",
    "pred_xgb = xgb.predict(X_val)\n",
    "                \n",
    "print('Optimal XGBoost RMSE with {0} training data points:'.format(len(X_train)),\n",
    "      str(np.sqrt(mean_squared_error(pred_xgb, Y_val))))\n",
    "\n",
    "plot_model_var_imp(xgb, X_train)"
   ]
  }
 ],
 "metadata": {
  "kernelspec": {
   "display_name": "drones",
   "language": "python",
   "name": "drones"
  },
  "language_info": {
   "codemirror_mode": {
    "name": "ipython",
    "version": 3
   },
   "file_extension": ".py",
   "mimetype": "text/x-python",
   "name": "python",
   "nbconvert_exporter": "python",
   "pygments_lexer": "ipython3",
   "version": "3.6.8"
  }
 },
 "nbformat": 4,
 "nbformat_minor": 2
}
